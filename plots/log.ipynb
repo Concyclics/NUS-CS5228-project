{
 "cells": [
  {
   "cell_type": "code",
   "execution_count": 1,
   "metadata": {},
   "outputs": [],
   "source": [
    "import pandas as pd\n",
    "import numpy as np\n",
    "import seaborn as sns"
   ]
  },
  {
   "cell_type": "code",
   "execution_count": 4,
   "metadata": {},
   "outputs": [],
   "source": [
    "names = ['lgbm_trial7.log', 'xgbooost_trial7.log', 'catboost_trial7.log']"
   ]
  },
  {
   "cell_type": "code",
   "execution_count": 6,
   "metadata": {},
   "outputs": [],
   "source": [
    "for name in names:\n",
    "    loss = []\n",
    "    time = []\n",
    "\n",
    "    with open(name) as f:\n",
    "        lines = f.readlines()\n",
    "        lines = [line.rstrip() for line in lines]\n",
    "        for line in lines:\n",
    "            line = line.split(' ')\n",
    "            for i in range(len(line)):\n",
    "                if 'loss' in line[i]:\n",
    "                    loss.append(float(line[i+1].split(',')[0]))\n",
    "                if 'trial_time' in line[i]:\n",
    "                    time.append(float(line[i+1].split(',')[0]))\n",
    "\n",
    "df = pd.DataFrame({'loss':loss, 'time':time})"
   ]
  },
  {
   "cell_type": "code",
   "execution_count": null,
   "metadata": {},
   "outputs": [],
   "source": []
  }
 ],
 "metadata": {
  "kernelspec": {
   "display_name": "CS5228",
   "language": "python",
   "name": "python3"
  },
  "language_info": {
   "codemirror_mode": {
    "name": "ipython",
    "version": 3
   },
   "file_extension": ".py",
   "mimetype": "text/x-python",
   "name": "python",
   "nbconvert_exporter": "python",
   "pygments_lexer": "ipython3",
   "version": "3.8.17"
  }
 },
 "nbformat": 4,
 "nbformat_minor": 2
}
